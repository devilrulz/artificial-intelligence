{
 "cells": [
  {
   "cell_type": "markdown",
   "id": "fcf35b68",
   "metadata": {},
   "source": [
    "# Greedy Search"
   ]
  },
  {
   "cell_type": "code",
   "execution_count": 1,
   "id": "a38d5b6b",
   "metadata": {},
   "outputs": [
    {
     "name": "stdout",
     "output_type": "stream",
     "text": [
      "Goal reached! Total cost: 8\n",
      "Path: A -> B -> C -> E -> D -> F -> G\n"
     ]
    }
   ],
   "source": [
    "# Define the graph as an adjacency list\n",
    "graph = {\n",
    "    'A': [('B', 5), ('C', 2)],\n",
    "    'B': [('D', 4), ('E', 2)],\n",
    "    'C': [('F', 3)],\n",
    "    'D': [],\n",
    "    'E': [('G', 1)],\n",
    "    'F': [],\n",
    "    'G': []\n",
    "}\n",
    "\n",
    "# Define the heuristic values for each node\n",
    "heuristic = {\n",
    "    'A': 8,\n",
    "    'B': 5,\n",
    "    'C': 6,\n",
    "    'D': 3,\n",
    "    'E': 2,\n",
    "    'F': 4,\n",
    "    'G': 0\n",
    "}\n",
    "\n",
    "def greedy_search(start, goal):\n",
    "    visited = []\n",
    "    queue = [(start, 0)]\n",
    "    \n",
    "    while queue:\n",
    "        node, cost = queue.pop(0)\n",
    "        visited.append(node)\n",
    "        \n",
    "        if node == goal:\n",
    "            print(f\"Goal reached! Total cost: {cost}\")\n",
    "            return visited\n",
    "        \n",
    "        neighbors = graph[node]\n",
    "        neighbors.sort(key=lambda x: heuristic[x[0]])  # Sort neighbors based on heuristic\n",
    "        \n",
    "        for neighbor, edge_cost in neighbors:\n",
    "            if neighbor not in visited:\n",
    "                queue.append((neighbor, cost + edge_cost))\n",
    "    \n",
    "    print(\"Goal not reachable.\")\n",
    "    return visited\n",
    "\n",
    "# Example usage\n",
    "start_node = 'A'\n",
    "goal_node = 'G'\n",
    "path = greedy_search(start_node, goal_node)\n",
    "print(\"Path:\", ' -> '.join(path))\n"
   ]
  },
  {
   "cell_type": "markdown",
   "id": "1603b2d9",
   "metadata": {},
   "source": [
    "# blind search program"
   ]
  },
  {
   "cell_type": "code",
   "execution_count": 2,
   "id": "b11e9100",
   "metadata": {},
   "outputs": [
    {
     "name": "stdout",
     "output_type": "stream",
     "text": [
      "Goal reached!\n",
      "Path: A -> B -> E -> G\n"
     ]
    }
   ],
   "source": [
    "# Define the graph as an adjacency list\n",
    "graph = {\n",
    "    'A': ['B', 'C'],\n",
    "    'B': ['D', 'E'],\n",
    "    'C': ['F'],\n",
    "    'D': [],\n",
    "    'E': ['G'],\n",
    "    'F': [],\n",
    "    'G': []\n",
    "}\n",
    "\n",
    "def bfs_search(start, goal):\n",
    "    visited = []\n",
    "    queue = [(start, [])]\n",
    "    \n",
    "    while queue:\n",
    "        node, path = queue.pop(0)\n",
    "        visited.append(node)\n",
    "        \n",
    "        if node == goal:\n",
    "            print(\"Goal reached!\")\n",
    "            return path + [node]\n",
    "        \n",
    "        neighbors = graph[node]\n",
    "        \n",
    "        for neighbor in neighbors:\n",
    "            if neighbor not in visited:\n",
    "                queue.append((neighbor, path + [node]))\n",
    "    \n",
    "    print(\"Goal not reachable.\")\n",
    "    return None\n",
    "\n",
    "# Example usage\n",
    "start_node = 'A'\n",
    "goal_node = 'G'\n",
    "path = bfs_search(start_node, goal_node)\n",
    "if path:\n",
    "    print(\"Path:\", ' -> '.join(path))\n"
   ]
  },
  {
   "cell_type": "markdown",
   "id": "403f6f4c",
   "metadata": {},
   "source": [
    "# uninformed search (DFS)"
   ]
  },
  {
   "cell_type": "code",
   "execution_count": 3,
   "id": "f9194aca",
   "metadata": {},
   "outputs": [
    {
     "name": "stdout",
     "output_type": "stream",
     "text": [
      "Goal reached!\n",
      "Path: A -> B -> E -> G\n"
     ]
    }
   ],
   "source": [
    "# Define the graph as an adjacency list\n",
    "graph = {\n",
    "    'A': ['B', 'C'],\n",
    "    'B': ['D', 'E'],\n",
    "    'C': ['F'],\n",
    "    'D': [],\n",
    "    'E': ['G'],\n",
    "    'F': [],\n",
    "    'G': []\n",
    "}\n",
    "\n",
    "def dfs_search(start, goal):\n",
    "    visited = []\n",
    "    stack = [(start, [])]\n",
    "    \n",
    "    while stack:\n",
    "        node, path = stack.pop()\n",
    "        visited.append(node)\n",
    "        \n",
    "        if node == goal:\n",
    "            print(\"Goal reached!\")\n",
    "            return path + [node]\n",
    "        \n",
    "        neighbors = graph[node]\n",
    "        \n",
    "        for neighbor in neighbors:\n",
    "            if neighbor not in visited:\n",
    "                stack.append((neighbor, path + [node]))\n",
    "    \n",
    "    print(\"Goal not reachable.\")\n",
    "    return None\n",
    "\n",
    "# Example usage\n",
    "start_node = 'A'\n",
    "goal_node = 'G'\n",
    "path = dfs_search(start_node, goal_node)\n",
    "if path:\n",
    "    print(\"Path:\", ' -> '.join(path))\n"
   ]
  },
  {
   "cell_type": "markdown",
   "id": "d94b6d74",
   "metadata": {},
   "source": [
    "# monkey banana problem"
   ]
  },
  {
   "cell_type": "code",
   "execution_count": 4,
   "id": "4c0bde39",
   "metadata": {},
   "outputs": [
    {
     "name": "stdout",
     "output_type": "stream",
     "text": [
      "Solution found: Start -> Climb -> Up -> Left -> Peel -> Eat\n"
     ]
    }
   ],
   "source": [
    "from collections import deque\n",
    "\n",
    "def monkey_banana_problem():\n",
    "    # Define the graph as an adjacency list\n",
    "    graph = {\n",
    "        'Start': ['Climb'],\n",
    "        'Climb': ['Up'],\n",
    "        'Up': ['Left', 'Right'],\n",
    "        'Left': ['Peel'],\n",
    "        'Right': ['Peel'],\n",
    "        'Peel': ['Eat']\n",
    "    }\n",
    "\n",
    "    # Define the goal state\n",
    "    goal_state = 'Eat'\n",
    "\n",
    "    # Perform breadth-first search\n",
    "    queue = deque([['Start']])\n",
    "    while queue:\n",
    "        path = queue.popleft()\n",
    "        current_state = path[-1]\n",
    "\n",
    "        if current_state == goal_state:\n",
    "            return path\n",
    "\n",
    "        neighbors = graph[current_state]\n",
    "        for neighbor in neighbors:\n",
    "            new_path = path + [neighbor]\n",
    "            queue.append(new_path)\n",
    "\n",
    "    return None\n",
    "\n",
    "# Example usage\n",
    "solution = monkey_banana_problem()\n",
    "if solution:\n",
    "    print(\"Solution found:\", ' -> '.join(solution))\n",
    "else:\n",
    "    print(\"No solution found.\")\n"
   ]
  },
  {
   "cell_type": "markdown",
   "id": "c628325e",
   "metadata": {},
   "source": [
    "# water jug problem"
   ]
  },
  {
   "cell_type": "code",
   "execution_count": 5,
   "id": "b2695dcf",
   "metadata": {},
   "outputs": [
    {
     "name": "stdout",
     "output_type": "stream",
     "text": [
      "Solution found:\n",
      "Fill jug2\n",
      "Pour jug2 into jug1\n",
      "Fill jug2\n",
      "Pour jug2 into jug1\n"
     ]
    }
   ],
   "source": [
    "from collections import deque\n",
    "\n",
    "def water_jug_problem(jug1_capacity, jug2_capacity, target):\n",
    "    # Perform breadth-first search\n",
    "    queue = deque([(0, 0, [])])\n",
    "    visited = set()\n",
    "\n",
    "    while queue:\n",
    "        jug1_level, jug2_level, path = queue.popleft()\n",
    "\n",
    "        if jug1_level == target or jug2_level == target:\n",
    "            return path\n",
    "\n",
    "        if (jug1_level, jug2_level) in visited:\n",
    "            continue\n",
    "\n",
    "        visited.add((jug1_level, jug2_level))\n",
    "\n",
    "        # Fill jug1\n",
    "        if jug1_level < jug1_capacity:\n",
    "            queue.append((jug1_capacity, jug2_level, path + ['Fill jug1']))\n",
    "\n",
    "        # Fill jug2\n",
    "        if jug2_level < jug2_capacity:\n",
    "            queue.append((jug1_level, jug2_capacity, path + ['Fill jug2']))\n",
    "\n",
    "        # Empty jug1\n",
    "        if jug1_level > 0:\n",
    "            queue.append((0, jug2_level, path + ['Empty jug1']))\n",
    "\n",
    "        # Empty jug2\n",
    "        if jug2_level > 0:\n",
    "            queue.append((jug1_level, 0, path + ['Empty jug2']))\n",
    "\n",
    "        # Pour jug1 into jug2\n",
    "        if jug1_level > 0 and jug2_level < jug2_capacity:\n",
    "            amount = min(jug1_level, jug2_capacity - jug2_level)\n",
    "            queue.append((jug1_level - amount, jug2_level + amount, path + ['Pour jug1 into jug2']))\n",
    "\n",
    "        # Pour jug2 into jug1\n",
    "        if jug2_level > 0 and jug1_level < jug1_capacity:\n",
    "            amount = min(jug2_level, jug1_capacity - jug1_level)\n",
    "            queue.append((jug1_level + amount, jug2_level - amount, path + ['Pour jug2 into jug1']))\n",
    "\n",
    "    return None\n",
    "\n",
    "# Example usage\n",
    "jug1_capacity = 4\n",
    "jug2_capacity = 3\n",
    "target = 2\n",
    "\n",
    "solution = water_jug_problem(jug1_capacity, jug2_capacity, target)\n",
    "if solution:\n",
    "    print(\"Solution found:\")\n",
    "    for step in solution:\n",
    "        print(step)\n",
    "else:\n",
    "    print(\"No solution found.\")\n"
   ]
  },
  {
   "cell_type": "markdown",
   "id": "c610e8b0",
   "metadata": {},
   "source": [
    "# hangman problem"
   ]
  },
  {
   "cell_type": "code",
   "execution_count": 6,
   "id": "4256154c",
   "metadata": {},
   "outputs": [
    {
     "name": "stdout",
     "output_type": "stream",
     "text": [
      "\n",
      "Attempts left: 6\n",
      "Word: _ _ _ _ _ _\n",
      "Guess a letter: r\n",
      "Wrong guess!\n",
      "\n",
      "Attempts left: 5\n",
      "Word: _ _ _ _ _ _\n",
      "Guess a letter: a\n",
      "Good guess!\n",
      "\n",
      "Attempts left: 5\n",
      "Word: _ a _ a _ a\n",
      "Guess a letter: c\n",
      "Wrong guess!\n",
      "\n",
      "Attempts left: 4\n",
      "Word: _ a _ a _ a\n",
      "Guess a letter: b\n",
      "Good guess!\n",
      "\n",
      "Attempts left: 4\n",
      "Word: b a _ a _ a\n",
      "Guess a letter: w\n",
      "Wrong guess!\n",
      "\n",
      "Attempts left: 3\n",
      "Word: b a _ a _ a\n",
      "Guess a letter: l\n",
      "Wrong guess!\n",
      "\n",
      "Attempts left: 2\n",
      "Word: b a _ a _ a\n",
      "Guess a letter: a\n",
      "You already guessed that letter. Try again.\n",
      "\n",
      "Attempts left: 2\n",
      "Word: b a _ a _ a\n",
      "Guess a letter: o\n",
      "Wrong guess!\n",
      "\n",
      "Attempts left: 1\n",
      "Word: b a _ a _ a\n",
      "Guess a letter: n\n",
      "Good guess!\n",
      "\n",
      "Attempts left: 1\n",
      "Word: b a n a n a\n",
      "\n",
      "Congratulations! You guessed the word correctly.\n"
     ]
    }
   ],
   "source": [
    "import random\n",
    "\n",
    "def hangman():\n",
    "    word_list = ['apple', 'banana', 'cherry', 'dragonfruit', 'elderberry', 'fig', 'grape']\n",
    "    word = random.choice(word_list)\n",
    "    word_length = len(word)\n",
    "    guessed_letters = ['_'] * word_length\n",
    "    attempts = 6\n",
    "\n",
    "    while attempts > 0:\n",
    "        print(\"\\nAttempts left:\", attempts)\n",
    "        print(\"Word:\", ' '.join(guessed_letters))\n",
    "\n",
    "        if '_' not in guessed_letters:\n",
    "            print(\"\\nCongratulations! You guessed the word correctly.\")\n",
    "            return\n",
    "\n",
    "        guess = input(\"Guess a letter: \").lower()\n",
    "\n",
    "        if guess in guessed_letters:\n",
    "            print(\"You already guessed that letter. Try again.\")\n",
    "            continue\n",
    "\n",
    "        found = False\n",
    "        for i in range(word_length):\n",
    "            if word[i] == guess:\n",
    "                guessed_letters[i] = guess\n",
    "                found = True\n",
    "\n",
    "        if found:\n",
    "            print(\"Good guess!\")\n",
    "        else:\n",
    "            print(\"Wrong guess!\")\n",
    "            attempts -= 1\n",
    "\n",
    "    print(\"\\nGame over! You ran out of attempts. The word was\", word)\n",
    "\n",
    "# Run the Hangman game\n",
    "hangman()\n"
   ]
  },
  {
   "cell_type": "code",
   "execution_count": null,
   "id": "9f8f9c39",
   "metadata": {},
   "outputs": [],
   "source": []
  }
 ],
 "metadata": {
  "kernelspec": {
   "display_name": "Python 3",
   "language": "python",
   "name": "python3"
  },
  "language_info": {
   "codemirror_mode": {
    "name": "ipython",
    "version": 3
   },
   "file_extension": ".py",
   "mimetype": "text/x-python",
   "name": "python",
   "nbconvert_exporter": "python",
   "pygments_lexer": "ipython3",
   "version": "3.8.8"
  }
 },
 "nbformat": 4,
 "nbformat_minor": 5
}
